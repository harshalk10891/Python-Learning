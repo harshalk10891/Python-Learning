{
 "cells": [
  {
   "cell_type": "code",
   "execution_count": 1,
   "metadata": {},
   "outputs": [
    {
     "data": {
      "text/plain": [
       "[2, 4, 6, 8, 10, 12, 14, 16, 18, 20]"
      ]
     },
     "execution_count": 1,
     "metadata": {},
     "output_type": "execute_result"
    }
   ],
   "source": [
    "i = [20, 2, 6, 7, 10]\n",
    "\n",
    "def my_Func(ml):\n",
    "    imin = min(i)\n",
    "    imax=max(i)\n",
    "    new_list=[imin]\n",
    "    if(imin==imax):\n",
    "        dummy_list=[0]*10\n",
    "        return(dummy_list)\n",
    "    else:\n",
    "        s=(imax-imin)/9\n",
    "        x=imin\n",
    "        while (x<imax):\n",
    "            x=x+s\n",
    "            new_list.append(int(x))\n",
    "    return(new_list)\n",
    "my_Func(i)\n",
    "            \n",
    "        \n"
   ]
  },
  {
   "cell_type": "code",
   "execution_count": null,
   "metadata": {},
   "outputs": [],
   "source": [
    "import operator\n",
    "dict={'a': 4,'b':3,'e':10,'d':2}\n",
    "dict_sort=sorted(dict.items(),key=operator.itemgetter(0),reverse=True)\n",
    "dict_sort"
   ]
  },
  {
   "cell_type": "code",
   "execution_count": null,
   "metadata": {},
   "outputs": [],
   "source": [
    "help (sorted)"
   ]
  },
  {
   "cell_type": "code",
   "execution_count": null,
   "metadata": {},
   "outputs": [],
   "source": [
    "help(operator)"
   ]
  },
  {
   "cell_type": "code",
   "execution_count": null,
   "metadata": {},
   "outputs": [],
   "source": [
    "import operator\n",
    "dict1={'a': 4}\n",
    "dict2={'b': 2}\n",
    "dict3={'c': 3}\n",
    "{**dict1,**dict2,**dict3}"
   ]
  },
  {
   "cell_type": "code",
   "execution_count": null,
   "metadata": {},
   "outputs": [],
   "source": [
    "a= 'string'\n",
    "n=len(a)\n",
    "i=1\n",
    "while i <= n :\n",
    "    print(a[n-i])\n",
    "    i=i+1\n",
    "    "
   ]
  },
  {
   "cell_type": "code",
   "execution_count": null,
   "metadata": {},
   "outputs": [],
   "source": [
    "str= 'Harshal'\n",
    "str.reverse()"
   ]
  },
  {
   "cell_type": "code",
   "execution_count": null,
   "metadata": {},
   "outputs": [],
   "source": [
    "str='Harshal'\n",
    "x=list(str)\n",
    "x.reverse()\n",
    "\"\".join(x)"
   ]
  },
  {
   "cell_type": "code",
   "execution_count": null,
   "metadata": {},
   "outputs": [],
   "source": [
    "str1='String'\n",
    "str1[::-1]"
   ]
  },
  {
   "cell_type": "code",
   "execution_count": null,
   "metadata": {},
   "outputs": [],
   "source": [
    "a={'home':['Hyderabad','Lingampally','Ph:1234567890'],\n",
    "'office':['Maharashtra','Mumbai','Ghatkopar','Ph : 5432167809','Pin :400043'], \n",
    "'OOI' : ['Singapore','Ph : 09876345']} \n",
    "phone=[]\n",
    "for v in a.values():\n",
    "    temp=[x for x in v if 'Ph' in x]\n",
    "    phone.append(temp)\n",
    "phone"
   ]
  },
  {
   "cell_type": "code",
   "execution_count": 2,
   "metadata": {},
   "outputs": [
    {
     "data": {
      "text/plain": [
       "{'home': ['Ph:1234567890'],\n",
       " 'office': ['Ph : 5432167809'],\n",
       " 'OOI': ['Ph : 09876345']}"
      ]
     },
     "execution_count": 2,
     "metadata": {},
     "output_type": "execute_result"
    }
   ],
   "source": [
    "address={\"home\" : [\"Hyderabad\",\"Lingampally\",\"Ph:1234567890\"],\n",
    "\"office\":[\"Maharashtra\",\"Mumbai\",\"Ghatkopar\",\"Ph : 5432167809\",\"Pin :400043\"],\n",
    "\"OOI\" : [\"Singapore\",\"Ph : 09876345\"]}\n",
    "\n",
    "phones={}\n",
    "\n",
    "for k,v in address.items():\n",
    "    temp=[x for x in v if \"Ph\" in x]\n",
    "    phones[k]=temp\n",
    "\n",
    "phones\n"
   ]
  },
  {
   "cell_type": "code",
   "execution_count": null,
   "metadata": {},
   "outputs": [],
   "source": [
    "a=float(input(\"Enter First Value:\"))\n",
    "b=float(input(\"Enter Second Value:\"))\n",
    "i=1\n",
    "gdc=0\n",
    "while(i<a and i<b):\n",
    "    if(a%i==0 and b%i==0):\n",
    "        gdc=i\n",
    "    i=i+1\n",
    "print(gdc)"
   ]
  },
  {
   "cell_type": "code",
   "execution_count": 4,
   "metadata": {},
   "outputs": [
    {
     "name": "stdout",
     "output_type": "stream",
     "text": [
      "5\n"
     ]
    }
   ],
   "source": [
    "n=2\n",
    "q=2\n",
    "Sum=0\n",
    "i=1\n",
    "while(i<=n):\n",
    "    Sum=Sum +(i**q)\n",
    "    i=i+1\n",
    "print(Sum)"
   ]
  },
  {
   "cell_type": "code",
   "execution_count": 5,
   "metadata": {},
   "outputs": [
    {
     "data": {
      "text/plain": [
       "5"
      ]
     },
     "execution_count": 5,
     "metadata": {},
     "output_type": "execute_result"
    }
   ],
   "source": [
    "def sum_n_power_q(n,q):\n",
    "    my_list=[i**q for i in range(n+1)]\n",
    "    sum_list=sum(my_list)\n",
    "    return(sum_list)\n",
    "\n",
    "sum_n_power_q(2,2)"
   ]
  },
  {
   "cell_type": "code",
   "execution_count": null,
   "metadata": {},
   "outputs": [],
   "source": [
    "a=[]\n",
    "b=[]\n",
    "i=1\n",
    "while i <= 100:\n",
    "    if(i%3==0):\n",
    "        a.append(i)\n",
    "        i=i+1\n",
    "print(a)"
   ]
  },
  {
   "cell_type": "code",
   "execution_count": null,
   "metadata": {},
   "outputs": [],
   "source": []
  }
 ],
 "metadata": {
  "kernelspec": {
   "display_name": "Python 3",
   "language": "python",
   "name": "python3"
  },
  "language_info": {
   "codemirror_mode": {
    "name": "ipython",
    "version": 3
   },
   "file_extension": ".py",
   "mimetype": "text/x-python",
   "name": "python",
   "nbconvert_exporter": "python",
   "pygments_lexer": "ipython3",
   "version": "3.7.6"
  }
 },
 "nbformat": 4,
 "nbformat_minor": 4
}
